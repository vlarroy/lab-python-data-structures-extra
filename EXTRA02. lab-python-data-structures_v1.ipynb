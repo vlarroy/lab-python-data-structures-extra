{
 "cells": [
  {
   "cell_type": "markdown",
   "metadata": {},
   "source": [
    "# Lab | Data Structures "
   ]
  },
  {
   "cell_type": "markdown",
   "metadata": {},
   "source": [
    "## Exercise 1: Working with Lists"
   ]
  },
  {
   "cell_type": "markdown",
   "metadata": {},
   "source": [
    "Imagine you are building a program for a teacher who wants to track the progress of their students throughout the semester. The teacher wants to input the grades of each student one by one, and get a summary of their performance. There are in total 5 students. You are tasked with building the program that will allow the teacher to do this easily.\n",
    "\n",
    "The program will prompt the teacher to enter the grades of each student. Once the teacher has entered all the grades, the program will calculate the total sum of the grades and display it on the screen. Then, the program will create a new list by selecting only the grades of the first, third, and fifth students entered by the teacher, and sort them in ascending order.\n",
    "\n",
    "Finally, the program will print out the new list, along with its length and the number of occurrences of the score 5 in the list. This will give the teacher a good overview of the performance of the selected students, and help them identify any potential issues early on."
   ]
  },
  {
   "cell_type": "markdown",
   "metadata": {},
   "source": [
    "*Hint:*\n",
    "- You can use the input() function to ask the user to enter their information.\n",
    "- Look for list methods to perform the tasks. \n",
    "- Remember, it is possible to get a part of the sequence using:\n",
    "\n",
    "    ```python\n",
    "    sequence[x:y:z]\n",
    "    ```\n",
    "    where x, y, z are integers.\n",
    "\n",
    "    The above returns a new sequence with the following characteristics:\n",
    "\n",
    "    - A sequence with the same type as the original (a slice of a list is a list, a slice of a tuple is a tuple, and a slice of a string is a string).\n",
    "    - A sequence with elements from `sequence [x]` to `sequence [y-1]` (does not include a sequence [y]). By skipping `z` elements each time, it can be omitted if ` z = 1`.\n"
   ]
  },
  {
   "cell_type": "markdown",
   "metadata": {},
   "source": [
    "*Recommended External Resources:*\n",
    "- *[Python Lists](https://www.w3schools.com/python/python_lists.asp)*\n",
    "- *[Python List Methods](https://www.w3schools.com/python/python_ref_list.asp)*\n",
    "- *[Python Built-in Functions](https://docs.python.org/3/library/functions.html)*\n"
   ]
  },
  {
   "cell_type": "code",
   "execution_count": 19,
   "metadata": {},
   "outputs": [
    {
     "name": "stdout",
     "output_type": "stream",
     "text": [
      "The total sum of the grades is 35.0.\n",
      "List of first, third, and fifth students: [3.75, 5.0, 10.0]\n",
      "Worst grades are: [3.75, 5.0]\n",
      "The number of students with bad performance is: 2\n"
     ]
    }
   ],
   "source": [
    "#Prompt the program to enter the grades of each student.\n",
    "student_grades = {\n",
    "    \"Vero\": float(input(\"Enter the grade here\")),\n",
    "    \"Ivan\": float(input(\"Enter the grade here\")),\n",
    "    \"Maria\": float(input(\"Enter the grade here\")),\n",
    "    \"Andrea\": float(input(\"Enter the grade here\")),\n",
    "    \"Joel\": float(input(\"Enter the grade here\")),\n",
    "}\n",
    "total_sum_grades = sum(list(student_grades.values())) #calculate the total sum of the grades\n",
    "print(f'The total sum of the grades is {total_sum_grades}.') #displaying the total sum of the grades on the screen\n",
    "\n",
    "first_third_fifth = list(student_grades.values())[0:5:2] # creating a new list by selecting only the grades of the first, third, and fifth students entered by the teacher.\n",
    "first_third_fifth.sort() # sorting the new list in ascending order.\n",
    "print(f\"List of first, third, and fifth students: {first_third_fifth}\") # printing the result\n",
    "\n",
    "list_of_worse_grades = [grade for grade in first_third_fifth if grade <=5] #creating a new list using comprehension with the students whose scores are lower than 5.0\n",
    "print(f\"Worst grades are: {list_of_worse_grades}\") \n",
    "print(f\"The number of students with bad performance is: {len(list_of_worse_grades)}\") #printing the length of the new list, that thells us the number of students that scored badly."
   ]
  },
  {
   "cell_type": "markdown",
   "metadata": {},
   "source": [
    "## Exercise 2: Tuples"
   ]
  },
  {
   "cell_type": "markdown",
   "metadata": {},
   "source": [
    "Imagine you're running a fruit stand and want to keep track of your inventory. Write a Python program that does the following:\n",
    "\n",
    "- Initializes a tuple with 5 different types of fruit.\n",
    "- Outputs the first and last elements of the tuple, so you can see the full range of fruits the store offers.\n",
    "- Replaces the second element of the tuple with a new fruit that the store has recently received, and prints the updated tuple so you can see the changes.\n",
    "- Concatenates a new tuple containing 2 additional fruits to the original tuple, so you can add them to the store inventory, and prints the resulting tuple to see the updated inventory.\n",
    "- Splits the resulting tuple into 2 tuples of 3 elements each (the first tuple contains the first 3 elements, and the second tuple contains the last 3 elements), so you can organize the inventory more effectively.\n",
    "- Combines the 2 tuples from the previous step with the original tuple into a new tuple, and prints the resulting tuple and its length, so you can see the final inventory after all the changes."
   ]
  },
  {
   "cell_type": "markdown",
   "metadata": {},
   "source": [
    "*Recommended External Resources: [Python Tuples Examples and Methods](https://www.w3schools.com/python/python_tuples.asp)*\n",
    "\n"
   ]
  },
  {
   "cell_type": "code",
   "execution_count": 10,
   "metadata": {},
   "outputs": [
    {
     "name": "stdout",
     "output_type": "stream",
     "text": [
      "apple, peach\n",
      "('apple', 'pear', 'mango', 'melon', 'peach')\n",
      "('apple', 'pear', 'mango', 'melon', 'peach', 'pineapple', 'watermelon')\n",
      "('apple', 'pear', 'mango')\n",
      "('melon', 'peach', 'pineapple')\n",
      "('apple', 'pear', 'mango', 'melon', 'peach', 'pineapple')\n",
      "6\n"
     ]
    }
   ],
   "source": [
    "fruits = (\"apple\", \"banana\", \"mango\", \"melon\", \"peach\") #initializing a tuple with 5 different types of fruit.\n",
    "print(fruits[0] + \", \" + fruits[4]) #outputing the first and last elements of the tuple, so that we can see the full range that the store offers.\n",
    "fruits_list = list(fruits) #since tuples are immutable, to replace elements, we need to cast it to a list.\n",
    "fruits_list[1] = \"pear\" #now, we can replace the second element with a new fruit that the store has recently received\n",
    "fruits = (tuple(fruits_list)) #we overwrite the fruits variable so that now it is a tuple but with the second element replaced. \n",
    "print(fruits) #we print the new tuple.\n",
    "new_fruits = [\"pineapple\", \"watermelon\"]\n",
    "fruits_list =list(fruits)\n",
    "fruits = tuple(fruits_list + new_fruits) #concatenating a new tuple containing 2 additional fruits to the original tuple\n",
    "print(fruits) #printing the resulting tuple so we can see the updated inventory\n",
    "\n",
    "#split the tuple into 2 tuples of 3 elements each\n",
    "fruits_1 = (fruits[0:3])\n",
    "fruits_2 = (fruits[3:6])\n",
    "print(fruits_1)\n",
    "print(fruits_2)\n",
    "\n",
    "#Combine the 2 tuples from the previous step with the original tuple into a new tuple. Print the resultingtuple and its length.\n",
    "fruits = tuple(list(fruits_1)+list(fruits_2))\n",
    "print(fruits)\n",
    "print(len(fruits))\n",
    "\n",
    "\n",
    "\n"
   ]
  },
  {
   "cell_type": "markdown",
   "metadata": {},
   "source": [
    "## Exercise 3: Sets"
   ]
  },
  {
   "cell_type": "markdown",
   "metadata": {},
   "source": [
    "Imagine you are a data analyst working for a literature museum. Your manager has given you two poems to analyze, and she wants you to write a Python program to extract useful information from them.\n",
    "\n",
    "Your program should:\n",
    "\n",
    "- Create two sets, one for each poem, containing all unique words in both poems (ignoring case and punctuation).\n",
    "- Print the number of unique words in each set.\n",
    "- Identify and print the unique words present in the first poem but not in the second one.\n",
    "- Identify and print the unique words present in the second poem but not in the first one.\n",
    "- Identify and print the unique words present in both poems and print it in alphabetical order."
   ]
  },
  {
   "cell_type": "markdown",
   "metadata": {},
   "source": [
    "*Recommended External Resources:*\n",
    "- *[Python Sets](https://www.w3schools.com/python/python_sets.asp)* \n",
    "- *[Python Set Methods](https://www.w3schools.com/python/python_ref_set.asp)*\n",
    "- *[Python String Methods](https://www.w3schools.com/python/python_ref_string.asp)*\n"
   ]
  },
  {
   "cell_type": "code",
   "execution_count": 11,
   "metadata": {},
   "outputs": [],
   "source": [
    "poem = \"\"\"Some say the world will end in fire,\n",
    "Some say in ice.\n",
    "From what I’ve tasted of desire\n",
    "I hold with those who favor fire.\n",
    "But if it had to perish twice,\n",
    "I think I know enough of hate\n",
    "To say that for destruction ice\n",
    "Is also great\n",
    "And would suffice.\"\"\"\n",
    "\n",
    "new_poem = \"\"\"Some say life is but a dream,\n",
    "Some say it's a test.\n",
    "From what I've seen and what I deem,\n",
    "I side with those who see it as a quest.\n",
    "\n",
    "But if it had to end today,\n",
    "I think I know enough of love,\n",
    "To say that though it fades away,\n",
    "It's still what we are made of.\"\"\""
   ]
  },
  {
   "cell_type": "code",
   "execution_count": 36,
   "metadata": {},
   "outputs": [
    {
     "name": "stdout",
     "output_type": "stream",
     "text": [
      "{'say', 'know', 'to', 'favor', 'destruction', 'it', 'i’ve', 'in', 'hold', 'but', 'would', 'had', 'enough', 'some', 'great', 'ice', 'twice', 'of', 'world', 'desire', 'that', 'fire', 'end', 'with', 'hate', 'will', 'think', 'and', 'tasted', 'those', 'i', 'what', 'who', 'perish', 'is', 'the', 'from', 'for', 'also', 'suffice', 'if'}\n",
      "41\n",
      "{'dream', 'say', 'side', 'know', 'today', 'to', 'a', 'are', 'life', 'it', 'seen', \"it's\", 'though', 'quest', 'but', 'as', 'if', 'away', 'we', 'had', 'enough', 'some', 'still', 'fades', 'see', 'of', 'that', 'love', 'end', 'with', 'deem', 'and', 'think', 'made', 'those', 'i', 'what', 'is', 'who', 'test', 'from', \"i've\"}\n",
      "42\n"
     ]
    }
   ],
   "source": [
    "# 1. Create two sets, one for each poem, containing all unique words in each poem (ignoring case and punctuation). Print the length of each set.\n",
    "poem = poem.replace(\".\",\"\")\n",
    "poem = poem.replace(\",\",\"\")\n",
    "poem = poem.lower()\n",
    "words = poem.split()\n",
    "\n",
    "poem_set = {word for word in words}\n",
    "print(poem_set)\n",
    "print(len(poem_set))\n",
    "\n",
    "new_poem = new_poem.replace(\".\",\"\")\n",
    "new_poem = new_poem.replace(\",\",\"\")\n",
    "new_poem = new_poem.lower()\n",
    "words = new_poem.split()\n",
    "\n",
    "new_poem_set = {word for word in words}\n",
    "print(new_poem_set)\n",
    "print(len(new_poem_set))\n"
   ]
  },
  {
   "cell_type": "code",
   "execution_count": 43,
   "metadata": {},
   "outputs": [
    {
     "name": "stdout",
     "output_type": "stream",
     "text": [
      "{'favor', 'destruction', 'i’ve', 'in', 'hold', 'would', 'great', 'ice', 'twice', 'desire', 'world', 'fire', 'hate', 'will', 'tasted', 'perish', 'the', 'for', 'also', 'suffice'}\n",
      "20\n",
      "{'dream', 'side', 'today', 'are', 'a', 'life', 'seen', \"it's\", 'though', 'quest', 'as', 'away', 'we', 'still', 'fades', 'see', 'love', 'deem', 'made', 'test', \"i've\"}\n",
      "21\n",
      "{'say', 'know', 'to', 'it', 'but', 'enough', 'had', 'some', 'of', 'that', 'end', 'with', 'and', 'think', 'those', 'i', 'what', 'who', 'is', 'from', 'if'}\n",
      "21\n"
     ]
    }
   ],
   "source": [
    "#Identify and print the unique words present in the first poem but not in the second poem:\n",
    "unique_poem = {word for word in poem_set if word not in new_poem_set}\n",
    "print(unique_poem)\n",
    "print(len(unique_poem))\n",
    "\n",
    "#Identify and print the unique words present in the second poem but not in the first poem:\n",
    "unique_new_poem = {word for word in new_poem_set if word not in poem_set}\n",
    "print(unique_new_poem)\n",
    "print(len(unique_new_poem))\n",
    "\n",
    "#Identify and print the unique words present in both poems and print it in alphabetical order:\n",
    "words_both_poems = {word for word in poem_set if word in new_poem_set}\n",
    "print(words_both_poems)\n",
    "print(len(words_both_poems))"
   ]
  },
  {
   "cell_type": "markdown",
   "metadata": {},
   "source": [
    "## Exercise 4: Dictionaries"
   ]
  },
  {
   "cell_type": "markdown",
   "metadata": {},
   "source": [
    "Consider the following dictionary of students with their scores in different subjects. One of the students, Bob, has complained about his score in Philosophy and, after reviewing it, the teacher has decided to update his score to 100. Write a Python program that updates Bob's score in Philosophy to 100 in the dictionary."
   ]
  },
  {
   "cell_type": "markdown",
   "metadata": {},
   "source": [
    "*Recommended External Resources: [Python Dictionary Examples and Methods](https://www.w3schools.com/python/python_dictionaries.asp)*\n"
   ]
  },
  {
   "cell_type": "code",
   "execution_count": 49,
   "metadata": {},
   "outputs": [],
   "source": [
    "grades = {'Alice': {'Physics': 75, 'Math': 85, 'Chemistry': 60, 'Philosophy': 90}, 'Bob': {'Physics': 75, 'Math': 85, 'Chemistry': 60, 'Philosophy': 90}}"
   ]
  },
  {
   "cell_type": "code",
   "execution_count": 55,
   "metadata": {},
   "outputs": [
    {
     "data": {
      "text/plain": [
       "{'Alice': {'Physics': 75, 'Math': 85, 'Chemistry': 60, 'Philosophy': 90},\n",
       " 'Bob': {'Physics': 75, 'Math': 85, 'Chemistry': 60, 'Philosophy': 100}}"
      ]
     },
     "execution_count": 55,
     "metadata": {},
     "output_type": "execute_result"
    }
   ],
   "source": [
    "#Write a Python program that updates Bob's score in Philosophy to 100 in the dictionary:\n",
    "grades[\"Bob\"][\"Philosophy\"] = 100\n",
    "grades"
   ]
  },
  {
   "cell_type": "markdown",
   "metadata": {},
   "source": [
    "## Bonus"
   ]
  },
  {
   "cell_type": "markdown",
   "metadata": {},
   "source": [
    "1. Below are the two lists. Write a Python program to convert them into a dictionary in a way that item from list1 is the key and item from list2 is the value."
   ]
  },
  {
   "cell_type": "markdown",
   "metadata": {},
   "source": [
    "*Hint: Use the zip() function. This function takes two or more iterables (like list, dict, string), aggregates them in a tuple, and returns it. Afterwards, you can use a function that turns a tuple into a dictionary.*"
   ]
  },
  {
   "cell_type": "markdown",
   "metadata": {},
   "source": [
    "*Recommended External Resources: [Python Zip Function](https://www.w3schools.com/python/ref_func_zip.asp)*\n"
   ]
  },
  {
   "cell_type": "code",
   "execution_count": 82,
   "metadata": {},
   "outputs": [
    {
     "name": "stdout",
     "output_type": "stream",
     "text": [
      "{'Physics': 75, 'Math': 85, 'Chemistry': 60, 'Philosophy': 90}\n"
     ]
    }
   ],
   "source": [
    "keys = ['Physics', 'Math', 'Chemistry', 'Philosophy']\n",
    "values = [75, 85, 60,90]\n",
    "grades = {keys:values for keys, values in zip(keys,values)}\n",
    "\n",
    "print(grades)"
   ]
  },
  {
   "cell_type": "markdown",
   "metadata": {},
   "source": [
    "2. Get the subject with the minimum score from the previous dictionary."
   ]
  },
  {
   "cell_type": "markdown",
   "metadata": {},
   "source": [
    "*Hint: Use the built-in function min(). Read about the parameter key.*"
   ]
  },
  {
   "cell_type": "markdown",
   "metadata": {},
   "source": [
    "\n",
    "*Recommended External Resources:*\n",
    "- *[Python Min Function Official Documentation](https://docs.python.org/3.8/library/functions.html#min)*\n",
    "- *[How to use key function in max and min in Python](https://medium.com/analytics-vidhya/how-to-use-key-function-in-max-and-min-in-python-1fdbd661c59c)*"
   ]
  },
  {
   "cell_type": "code",
   "execution_count": 85,
   "metadata": {},
   "outputs": [
    {
     "name": "stdout",
     "output_type": "stream",
     "text": [
      "{'Chemistry': 60}\n"
     ]
    }
   ],
   "source": [
    "minimum = min(grades.values())\n",
    "minimum_grade = {keys: values for keys, values in grades.items() if values == minimum}\n",
    "print(minimum_grade)\n"
   ]
  }
 ],
 "metadata": {
  "kernelspec": {
   "display_name": "Python 3 (ipykernel)",
   "language": "python",
   "name": "python3"
  },
  "language_info": {
   "codemirror_mode": {
    "name": "ipython",
    "version": 3
   },
   "file_extension": ".py",
   "mimetype": "text/x-python",
   "name": "python",
   "nbconvert_exporter": "python",
   "pygments_lexer": "ipython3",
   "version": "3.11.7"
  }
 },
 "nbformat": 4,
 "nbformat_minor": 4
}
